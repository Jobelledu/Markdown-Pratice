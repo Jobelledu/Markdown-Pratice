{
 "cells": [
  {
   "cell_type": "markdown",
   "id": "53bc4f90",
   "metadata": {},
   "source": [
    "# CS 150 Computer Programming for the Liberal Arts"
   ]
  },
  {
   "cell_type": "markdown",
   "id": "e5aa7114",
   "metadata": {},
   "source": [
    "## Getting Started with markdowns"
   ]
  },
  {
   "cell_type": "markdown",
   "id": "4165f058",
   "metadata": {},
   "source": [
    "### Module 0 Justin Odle Fall 22"
   ]
  },
  {
   "cell_type": "markdown",
   "id": "565db588",
   "metadata": {},
   "source": [
    "#### Blockquotes \n",
    ">New to coding"
   ]
  },
  {
   "cell_type": "markdown",
   "id": "8826e7f7",
   "metadata": {},
   "source": [
    "#### Chapters\n",
    "* Module 1 varibles and simple data\n",
    "* Module 2 introducing lists, tuples\n",
    "* Module 3 if statements\n",
    "* Module 4 dictionaries\n",
    "* Module 5 while loop\n",
    "* Module 6 video functions"
   ]
  },
  {
   "cell_type": "markdown",
   "id": "22af0d78",
   "metadata": {},
   "source": [
    "#### Assignments\n",
    "1. Assignment 0 course inroduction\n",
    "2. Assignment 1 pratice notebook video description\n",
    "3. Assignment 2 lists and tuple\n",
    "4. Assignment 3 if statement\n",
    "5. Assignment 4 video dictionary\n",
    "6. Assignemnt 5 while loop\n",
    "7. Assignment 6 video functions"
   ]
  },
  {
   "cell_type": "markdown",
   "id": "22a38d47",
   "metadata": {},
   "source": [
    "#### Bold\n",
    "**Today is going to be a nice day.**"
   ]
  },
  {
   "cell_type": "markdown",
   "id": "2d903985",
   "metadata": {},
   "source": [
    "#### Italic\n",
    "*I can not believe it is going to be 75 degrees out today.*"
   ]
  },
  {
   "cell_type": "markdown",
   "id": "74b85ee3",
   "metadata": {},
   "source": [
    "#### Highlight\n",
    "`Today is Sunday` a new week begins."
   ]
  },
  {
   "cell_type": "markdown",
   "id": "920dca69",
   "metadata": {},
   "source": [
    "#### Hyperlink\n",
    "<a href= \"https://github.com/Jobelledu/PA-1\""
   ]
  },
  {
   "cell_type": "markdown",
   "id": "71f8761d",
   "metadata": {},
   "source": [
    "#### Render Image\n",
    "![Fall Trees](data:image/jpeg;base64,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)"
   ]
  },
  {
   "cell_type": "code",
   "execution_count": null,
   "id": "3d8739f0",
   "metadata": {},
   "outputs": [],
   "source": []
  }
 ],
 "metadata": {
  "kernelspec": {
   "display_name": "Python 3 (ipykernel)",
   "language": "python",
   "name": "python3"
  },
  "language_info": {
   "codemirror_mode": {
    "name": "ipython",
    "version": 3
   },
   "file_extension": ".py",
   "mimetype": "text/x-python",
   "name": "python",
   "nbconvert_exporter": "python",
   "pygments_lexer": "ipython3",
   "version": "3.9.13"
  }
 },
 "nbformat": 4,
 "nbformat_minor": 5
}
